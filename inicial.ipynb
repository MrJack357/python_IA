{
 "cells": [
  {
   "cell_type": "markdown",
   "metadata": {},
   "source": [
    "# Projeto Python IA: Inteligência Artificial e Previsões\n",
    "\n",
    "### Case: Score de Crédito dos Clientes\n",
    "\n",
    "Você foi contratado por um banco para conseguir definir o score de crédito dos clientes. Você precisa analisar todos os clientes do banco e, com base nessa análise, criar um modelo que consiga ler as informações do cliente e dizer automaticamente o score de crédito dele: Ruim, Ok, Bom\n",
    "\n",
    "Arquivos da aula: https://drive.google.com/drive/folders/1FbDqVq4XLvU85VBlVIMJ73p9oOu6u2-J?usp=drive_link"
   ]
  },
  {
   "cell_type": "code",
   "execution_count": 47,
   "metadata": {},
   "outputs": [],
   "source": [
    "# !pip install pandas scikit-learn"
   ]
  },
  {
   "cell_type": "code",
   "execution_count": null,
   "metadata": {},
   "outputs": [],
   "source": [
    "# passo a passo\n",
    "# 0. entender a empresa e o desafio proposto\n",
    "# 1. entender o base de dados\n",
    "import pandas as pd\n",
    "\n",
    "tabela = pd.read_csv('clientes.csv')\n",
    "\n",
    "display(tabela)\n",
    "\n",
    "\n",
    "\n",
    "# Score de crédito = Nota de crédito\n",
    "# Good = bom\n",
    "# standard = ok\n",
    "# poor = ruim"
   ]
  },
  {
   "cell_type": "code",
   "execution_count": null,
   "metadata": {},
   "outputs": [],
   "source": [
    "# 2. preparar a base de dados para a análise da inteligência artificial\n",
    "display(tabela.info())\n",
    "\n",
    "# int = número inteiro\n",
    "# float = número decimal\n",
    "# object = texto\n",
    "\n",
    "# label encoder\n",
    "\n",
    "from sklearn.preprocessing import LabelEncoder as le\n",
    "\n",
    "# profissoes\n",
    "\n",
    "codificador_profissao = le()\n",
    "tabela['profissao'] = codificador_profissao.fit_transform(tabela['profissao'])\n",
    "\n",
    "#mix_credito\n",
    "\n",
    "codificador_credito = le()\n",
    "\n",
    "tabela['mix_credito'] = codificador_credito.fit_transform(tabela['mix_credito'])\n",
    "\n",
    "#comportamento_pagamento\n",
    "codificador_pagamento = le()\n",
    "\n",
    "tabela['comportamento_pagamento'] = codificador_pagamento.fit_transform(tabela['comportamento_pagamento'])\n",
    "\n",
    "display(tabela.info())"
   ]
  },
  {
   "cell_type": "code",
   "execution_count": 57,
   "metadata": {},
   "outputs": [],
   "source": [
    "# y -> é a coluna que queremos prever\n",
    "y = tabela['score_credito']\n",
    "\n",
    "# x -> colunas de base de dados que vamos utilizar para prever\n",
    "x = tabela.drop(columns=['score_credito', \"id_cliente\"])\n",
    "\n",
    "# separar os dados entre treino e teste\n",
    "from sklearn.model_selection import train_test_split\n",
    "\n",
    "x_treino, x_teste, y_treino, y_teste = train_test_split(x, y, test_size=0.3                                                                            )\n"
   ]
  },
  {
   "cell_type": "code",
   "execution_count": null,
   "metadata": {},
   "outputs": [],
   "source": [
    "\n",
    "# 3. treinar o modelo de inteligência artificial com nota de crédito:\n",
    "# boa, ok, ruim\n",
    "\n",
    "# Arvore de Decisão -> RandomForest\n",
    "# Nearst Neighbors -> KNN -> Vizinhos mais próximos\n",
    "\n",
    "# importar a IA\n",
    "from sklearn.ensemble import RandomForestClassifier\n",
    "from sklearn.neighbors import KNeighborsClassifier\n",
    "\n",
    "# criar a IA\n",
    "\n",
    "modelo_arvoredecisao = RandomForestClassifier()\n",
    "modelo_knn = KNeighborsClassifier()\n",
    "\n",
    "# treinar a IA\n",
    "\n",
    "modelo_arvoredecisao.fit(x_treino, y_treino)\n",
    "modelo_knn.fit(x_treino, y_treino)\n"
   ]
  },
  {
   "cell_type": "code",
   "execution_count": null,
   "metadata": {},
   "outputs": [],
   "source": [
    "# 4. escolher o melhor modelo de inteligência artificial\n",
    "\n",
    "# prever a nota de crédito\n",
    "# arvore de decisao\n",
    "previsao_arvoredecisao = modelo_arvoredecisao.predict(x_teste)\n",
    "\n",
    "# knn\n",
    "previsao_knn = modelo_knn.predict(x_teste)\n",
    "\n",
    "# precisão\n",
    "from sklearn.metrics import accuracy_score\n",
    "\n",
    "# arvore de decisao\n",
    "print(accuracy_score(y_teste, previsao_arvoredecisao))\n",
    "\n",
    "# knn\n",
    "print(accuracy_score(y_teste, previsao_knn))\n",
    "\n"
   ]
  },
  {
   "cell_type": "code",
   "execution_count": null,
   "metadata": {},
   "outputs": [],
   "source": [
    "# 5. usar o modelo de inteligência artificial para prever a nota de crédito de novos clientes\n",
    "\n",
    "# melhor modelo -> arvore de decisao\n",
    "\n",
    "#importar novos clientes\n",
    "tabela_novos_clientes = pd.read_csv('novos_clientes.csv')\n",
    "\n",
    "# profissoes\n",
    "\n",
    "tabela_novos_clientes['profissao'] = codificador_profissao.transform(tabela_novos_clientes['profissao'])\n",
    "\n",
    "#mix_credito\n",
    "\n",
    "tabela_novos_clientes['mix_credito'] = codificador_credito.transform(tabela_novos_clientes['mix_credito'])\n",
    "\n",
    "#comportamento_pagamento\n",
    "tabela_novos_clientes['comportamento_pagamento'] = codificador_pagamento.transform(tabela_novos_clientes['comportamento_pagamento'])\n",
    "\n",
    "\n",
    "display(tabela_novos_clientes)\n",
    "\n",
    "# prever a nota de crédito\n",
    "previsao_novos_clientes = modelo_arvoredecisao.predict(tabela_novos_clientes)\n",
    "\n",
    "display(previsao_novos_clientes)\n"
   ]
  }
 ],
 "metadata": {
  "kernelspec": {
   "display_name": "Python 3",
   "language": "python",
   "name": "python3"
  },
  "language_info": {
   "codemirror_mode": {
    "name": "ipython",
    "version": 3
   },
   "file_extension": ".py",
   "mimetype": "text/x-python",
   "name": "python",
   "nbconvert_exporter": "python",
   "pygments_lexer": "ipython3",
   "version": "3.13.1"
  },
  "orig_nbformat": 4
 },
 "nbformat": 4,
 "nbformat_minor": 2
}
